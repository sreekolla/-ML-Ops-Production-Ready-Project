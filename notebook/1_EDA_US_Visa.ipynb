{
 "cells": [
  {
   "cell_type": "markdown",
   "id": "d3baa8a1",
   "metadata": {},
   "source": [
    "# US Visa Prediction Project\n",
    "**Life cycle of Machine learning Project**\n",
    "\n",
    "* Understanding the Problem Statement\n",
    "* Data Collection\n",
    "* Exploratory data analysis\n",
    "* Data Cleaning\n",
    "* Data Pre-Processing\n",
    "* Model Training \n",
    "* Choose best model"
   ]
  },
  {
   "cell_type": "markdown",
   "id": "c683e9cc",
   "metadata": {},
   "source": [
    "### About\n",
    "The Immigration and Nationality Act (INA) of the US permits foreign workers to come to the United States to work on either a temporary or permanent basis. \n",
    "The act also protects US workers against adverse impacts on working place and maintain requirements when they hire foreign workers to fill workforce shortages. The immigration programs are administered by the Office of Foreign Labor Certification (OFLC)."
   ]
  },
  {
   "cell_type": "markdown",
   "id": "86c6a587",
   "metadata": {},
   "source": [
    "## 1) Problem statement.\n",
    "\n",
    "* OFLC gives job certification applications for employers seeking to bring foreign workers into the United States and grants certifications. \n",
    "* As In last year the count of employees were huge so OFLC needs Machine learning models to shortlist visa applicants based on their previous data.\n",
    "\n",
    "**In this project we are going to use the data given to build a Classification model:**\n",
    "\n",
    "* This model is to check if Visa get approved or not based on the given dataset.\n",
    "* This can be used to Recommend a suitable profile for the applicants for whom the visa should be certified or denied based on the certain criteria which influences the decision."
   ]
  },
  {
   "cell_type": "markdown",
   "id": "dd79388c",
   "metadata": {},
   "source": [
    "## 2) Data Collection.\n",
    "* The Dataset is part of Office of Foreign Labor Certification (OFLC)\n",
    "* The data consists of 25480 Rows and 12 Columns\n",
    "\n",
    "https://www.kaggle.com/datasets/moro23/easyvisa-dataset"
   ]
  },
  {
   "cell_type": "markdown",
   "id": "1b93c8d7",
   "metadata": {},
   "source": [
    "### 2.1 Import Data and Required Packages"
   ]
  },
  {
   "cell_type": "markdown",
   "id": "21203332",
   "metadata": {},
   "source": [
    "**Importing Pandas, Numpy, Matplotlib, Seaborn and Warings Library.**"
   ]
  },
  {
   "cell_type": "code",
   "execution_count": null,
   "id": "4b84bc6d",
   "metadata": {},
   "outputs": [],
   "source": [
    "import pandas as pd\n",
    "import numpy as np\n",
    "import matplotlib.pyplot as plt\n",
    "import seaborn as sns\n",
    "import plotly.express as px\n",
    "import warnings\n",
    "\n",
    "warnings.filterwarnings(\"ignore\")\n",
    "\n",
    "%matplotlib inline"
   ]
  },
  {
   "cell_type": "markdown",
   "id": "75bc7d14",
   "metadata": {},
   "source": [
    "**Import the CSV Data as Pandas DataFrame**"
   ]
  },
  {
   "cell_type": "code",
   "execution_count": null,
   "id": "3dda4792",
   "metadata": {},
   "outputs": [],
   "source": [
    "df = pd.read_csv(r\"Visadataset.csv\")"
   ]
  },
  {
   "cell_type": "markdown",
   "id": "3ae05ec8",
   "metadata": {},
   "source": [
    "**Show Top 5 Records**"
   ]
  },
  {
   "cell_type": "code",
   "execution_count": null,
   "id": "738b0408",
   "metadata": {},
   "outputs": [],
   "source": [
    "df.head()"
   ]
  },
  {
   "cell_type": "markdown",
   "id": "58947436",
   "metadata": {},
   "source": [
    "**Shape of the dataset**"
   ]
  },
  {
   "cell_type": "code",
   "execution_count": null,
   "id": "e87474ef",
   "metadata": {},
   "outputs": [],
   "source": [
    "df.shape"
   ]
  },
  {
   "cell_type": "markdown",
   "id": "11d6cd70",
   "metadata": {},
   "source": [
    "**Summary of the dataset**"
   ]
  },
  {
   "cell_type": "code",
   "execution_count": null,
   "id": "fdc0a96b",
   "metadata": {},
   "outputs": [],
   "source": [
    "# Display summary statistics for a dataframe\n",
    "df.describe()"
   ]
  },
  {
   "cell_type": "markdown",
   "id": "436f0ce4",
   "metadata": {},
   "source": [
    "**Check Datatypes in the dataset**"
   ]
  },
  {
   "cell_type": "code",
   "execution_count": null,
   "id": "0596284d",
   "metadata": {},
   "outputs": [],
   "source": [
    "# Check Null and Dtypes\n",
    "df.info()"
   ]
  },
  {
   "cell_type": "markdown",
   "id": "7c60fcf8",
   "metadata": {},
   "source": [
    "## 3. EXPLORING DATA"
   ]
  },
  {
   "cell_type": "code",
   "execution_count": null,
   "id": "d7fc7bc8",
   "metadata": {},
   "outputs": [],
   "source": [
    "# define numerical & categorical columns\n",
    "numeric_features = [feature for feature in df.columns if df[feature].dtype != 'O']\n",
    "categorical_features = [feature for feature in df.columns if df[feature].dtype == 'O']\n",
    "\n",
    "# print columns\n",
    "print('We have {} numerical features : {}'.format(len(numeric_features), numeric_features))\n",
    "print('\\nWe have {} categorical features : {}'.format(len(categorical_features), categorical_features))"
   ]
  },
  {
   "cell_type": "code",
   "execution_count": null,
   "id": "83ba18eb",
   "metadata": {},
   "outputs": [],
   "source": [
    "# proportion of count data on categorical columns\n",
    "for col in categorical_features:\n",
    "    print(df[col].value_counts(normalize=True) * 100)\n",
    "    print('---------------------------')"
   ]
  },
  {
   "cell_type": "markdown",
   "id": "e4f684a0",
   "metadata": {},
   "source": [
    "**Insights**\n",
    " - `case_id` have unique vlaues for each column which can be dropped as it it of no importance\n",
    " - `continent` column is highly biased towards asia. hence we can combine other categories to form a single category.\n",
    " - `unit_of_wage` seems to be an important column as most of them are yearly contracts."
   ]
  },
  {
   "cell_type": "markdown",
   "id": "b2e51915",
   "metadata": {},
   "source": [
    "## Univariate Analysis"
   ]
  },
  {
   "cell_type": "markdown",
   "id": "99ed0668",
   "metadata": {},
   "source": [
    "* The term univariate analysis refers to the analysis of one variable prefix “uni” means “one.” The purpose of univariate analysis is to understand the distribution of values for a single variable.\n",
    "\n",
    "Other Type of Analysis are\n",
    "* **Bivariate Analysis:** The analysis of two variables.\n",
    "* **Multivariate Analysis:** The analysis of two or more variables."
   ]
  },
  {
   "cell_type": "markdown",
   "id": "c792bf6e",
   "metadata": {},
   "source": [
    "### Numerical Features"
   ]
  },
  {
   "cell_type": "code",
   "execution_count": null,
   "id": "5f63d9a0",
   "metadata": {},
   "outputs": [],
   "source": [
    "plt.figure(figsize=(15, 10))\n",
    "plt.suptitle('Univariate Analysis of Numerical Features', fontsize=20, fontweight='bold', alpha=0.8, y=1.)\n",
    "\n",
    "for i in range(0, len(numeric_features)):\n",
    "    plt.subplot(2, 2, i+1)\n",
    "    sns.kdeplot(x=df[numeric_features[i]], color='blue')\n",
    "    plt.xlabel(numeric_features[i])\n",
    "    plt.tight_layout()\n",
    "    \n",
    "# save plot\n",
    "# plt.savefig('./images/Univariate_Num.png')"
   ]
  },
  {
   "cell_type": "markdown",
   "id": "e4a33bf8",
   "metadata": {},
   "source": [
    "**Insights**\n",
    " - `no_of_employees` column looks more skewed but it may be because of outlies.\n",
    " - `yr_of_estab` is a discrete feature.\n",
    " - `privailing-wage` is a right-skewed distribution."
   ]
  },
  {
   "cell_type": "markdown",
   "id": "c8225d4b",
   "metadata": {},
   "source": [
    "### Categorical Features"
   ]
  },
  {
   "cell_type": "code",
   "execution_count": null,
   "id": "d6387b81",
   "metadata": {},
   "outputs": [],
   "source": [
    "# categorical columns\n",
    "categorical_features.remove('case_id')\n",
    "plt.figure(figsize=(15, 8))\n",
    "plt.suptitle('Univariate Analysis of Categorical Features', fontsize=20, fontweight='bold', alpha=0.8, y=1.)\n",
    "\n",
    "for i in range(0, len(categorical_features)):\n",
    "    plt.subplot(3, 3, i+1)\n",
    "    sns.countplot(x=df[categorical_features[i]])\n",
    "    plt.xlabel(categorical_features[i])\n",
    "    plt.tight_layout()\n",
    "    \n",
    "# save plot\n",
    "# plt.savefig('./images/Univariate_Cat.png')"
   ]
  },
  {
   "cell_type": "markdown",
   "id": "da397735",
   "metadata": {},
   "source": [
    "**Insights**\n",
    " - `requires_job_training`, `unit_of_wage`, `full_time_position` and `continents` coulmns have signle category dominating.\n",
    " - In rest of the columns are balanced."
   ]
  },
  {
   "cell_type": "markdown",
   "id": "8857eecb",
   "metadata": {},
   "source": [
    "### Multivariate Analysis"
   ]
  },
  {
   "cell_type": "markdown",
   "id": "93b7afd8",
   "metadata": {},
   "source": [
    "* Multivariate analysis is the analysis of more than one variable."
   ]
  },
  {
   "cell_type": "code",
   "execution_count": null,
   "id": "185ec76e",
   "metadata": {},
   "outputs": [],
   "source": [
    "discrete_features=[feature for feature in numeric_features if len(df[feature].unique())<=25]\n",
    "\n",
    "continuous_features=[feature for feature in numeric_features if len(df[feature].unique()) > 25]\n",
    "\n",
    "print('We have {} discrete features : {}'.format(len(discrete_features), discrete_features))\n",
    "print('\\nWe have {} continuous_features : {}'.format(len(continuous_features), continuous_features))"
   ]
  },
  {
   "cell_type": "markdown",
   "id": "9d91435e",
   "metadata": {},
   "source": [
    "### Check Multicollinearity in Numerical features"
   ]
  },
  {
   "cell_type": "code",
   "execution_count": null,
   "id": "7e368eee",
   "metadata": {},
   "outputs": [],
   "source": [
    "df.head()"
   ]
  },
  {
   "cell_type": "markdown",
   "id": "0faaa16a",
   "metadata": {},
   "source": [
    "**Insights**\n",
    " - There is no multicollinearity between any variables"
   ]
  },
  {
   "cell_type": "markdown",
   "id": "e33726ff",
   "metadata": {},
   "source": [
    "### Check Multicollinearity for Categorical features"
   ]
  },
  {
   "cell_type": "markdown",
   "id": "96adde84",
   "metadata": {},
   "source": [
    "* **A chi-squared test (also chi-square or χ2 test) is a statistical hypothesis test that is valid to perform when the test statistic is chi-squared distributed under the null hypothesis, specifically Pearson's chi-squared test**\n",
    "\n",
    "* **A chi-square statistic is one way to show a relationship between two categorical variables.**\n",
    "\n",
    "* **Here we test correlation of Categorical columns with Target column i.e case_status**"
   ]
  },
  {
   "cell_type": "markdown",
   "id": "73cd8d40",
   "metadata": {},
   "source": [
    "Null Hypothesis ($ H_0 $): The Feature is independent of target column (No-Correlation)\n",
    "\n",
    "Alternative Hypothesis ($ H_1 $): The Feature and Target column are not independent (Correalted)"
   ]
  },
  {
   "cell_type": "code",
   "execution_count": null,
   "id": "5d1c81e6",
   "metadata": {},
   "outputs": [],
   "source": [
    "from scipy.stats import chi2_contingency\n",
    "chi2_test = []\n",
    "for feature in categorical_features:\n",
    "    if chi2_contingency(pd.crosstab(df['case_status'], df[feature]))[1] < 0.05:\n",
    "        chi2_test.append('Reject Null Hypothesis')\n",
    "    else:\n",
    "        chi2_test.append('Fail to Reject Null Hypothesis')\n",
    "result = pd.DataFrame(data=[categorical_features, chi2_test]).T\n",
    "result.columns = ['Column', 'Hypothesis Result']\n",
    "result"
   ]
  },
  {
   "cell_type": "markdown",
   "id": "c31df376",
   "metadata": {},
   "source": [
    "**Report** \n",
    "* Here `requires_job_training` fails to Rejects Null Hypothesis which means it doesn't correlate with target column."
   ]
  },
  {
   "cell_type": "markdown",
   "id": "a1ef8bf5",
   "metadata": {},
   "source": [
    "### Checking Null Values"
   ]
  },
  {
   "cell_type": "code",
   "execution_count": null,
   "id": "cb9d4e55",
   "metadata": {},
   "outputs": [],
   "source": [
    "df.isnull().sum()"
   ]
  },
  {
   "cell_type": "code",
   "execution_count": null,
   "id": "25f9c346",
   "metadata": {},
   "outputs": [],
   "source": [
    "continues_features=[feature for feature in numeric_features if len(df[feature].unique())>=10]\n",
    "print('Num of continues features :',continues_features)"
   ]
  },
  {
   "cell_type": "code",
   "execution_count": null,
   "id": "b96c48ca",
   "metadata": {},
   "outputs": [],
   "source": [
    "clr1 = ['#1E90FF', '#DC143C']\n",
    "fig, ax = plt.subplots(3, 2, figsize=(10,12))\n",
    "fig.suptitle('Distribution of Numerical Features By Case Status', color='#3C3744',\n",
    "             fontsize=20, fontweight='bold', ha='center')\n",
    "for i, col in enumerate(continues_features):   \n",
    "    sns.boxplot(data=df, x='case_status', y=col,  palette=clr1, ax=ax[i,0])\n",
    "    ax[i,0].set_title(f'Boxplot of {col}', fontsize=12)\n",
    "    sns.histplot(data=df, x=col, hue='case_status', bins=20, kde=True, \n",
    "                 multiple='stack', palette=clr1, ax=ax[i,1])\n",
    "    ax[i,1].set_title(f'Histogram of {col}', fontsize=14)\n",
    "fig.tight_layout()\n",
    "fig.subplots_adjust(top=0.90)\n",
    "# plt.savefig('images/multivariate_num.png')"
   ]
  },
  {
   "cell_type": "markdown",
   "id": "f5a9d6d7",
   "metadata": {},
   "source": []
  },
  {
   "cell_type": "markdown",
   "id": "2b3bd8be",
   "metadata": {},
   "source": [
    "## Initial Analysis Report"
   ]
  },
  {
   "cell_type": "markdown",
   "id": "59b0bc25",
   "metadata": {},
   "source": [
    "* **No of Employees has many outliers which can be Handled in Feature Engineering and `no_of_employees` is Right Skewed.**\n",
    "* **`yr_of_estab` is left skewed and some outliers below the lower bound of Box plot.**\n",
    "* **`prevailing_wage` is right skewed with outliers above upper bound of box plot.**\n",
    "* **There are No missing values in the dataset.**\n",
    "* **The `case_id` column can be deleted because each row has unique values.**\n",
    "* **The `case_status` column is the target to predict.**\n",
    "* **In the Categorical column, features can be made Binary numerical in feature Encoding**"
   ]
  },
  {
   "cell_type": "markdown",
   "id": "32937b77",
   "metadata": {},
   "source": [
    "## 4. Visualization"
   ]
  },
  {
   "cell_type": "markdown",
   "id": "4f093394",
   "metadata": {},
   "source": [
    "### 4.1 Visualize the Target Feature"
   ]
  },
  {
   "cell_type": "code",
   "execution_count": null,
   "id": "786537c7",
   "metadata": {},
   "outputs": [],
   "source": [
    "percentage = df.case_status.value_counts(normalize=True)*100\n",
    "labels = [\"Certified\",\"Denied\"]\n",
    "\n",
    "# Plot PieChart with Ploty library\n",
    "fig, ax = plt.subplots(figsize =(15, 8))\n",
    "explode = (0, 0.1)\n",
    "colors = ['#1188ff','#e63a2a']\n",
    "ax.pie(percentage, labels = labels, startangle = 90,\n",
    "       autopct='%1.2f%%',explode=explode, shadow=True, colors=colors)\n",
    "plt.show()"
   ]
  },
  {
   "cell_type": "markdown",
   "id": "24c36ef5",
   "metadata": {},
   "source": [
    "* From the chart it is seen that the Target Variable is Imbalanced\n",
    "**What is imbalanced data?**\n",
    "\n",
    "Imbalanced data are types of data where the target class has an uneven distribution of observations, i.e Here Denied value has more count than the Certified value of the dataset."
   ]
  },
  {
   "cell_type": "markdown",
   "id": "3901e435",
   "metadata": {},
   "source": [
    "### 4.2 Does applicant Continent has any impact on Visa status ?"
   ]
  },
  {
   "cell_type": "code",
   "execution_count": null,
   "id": "6d54e68a",
   "metadata": {},
   "outputs": [],
   "source": [
    "#group data by continent and their count of case_status\n",
    "df.groupby('continent')['case_status'].value_counts(normalize=True).to_frame()*100"
   ]
  },
  {
   "cell_type": "code",
   "execution_count": null,
   "id": "798bb505",
   "metadata": {},
   "outputs": [],
   "source": [
    "plt.subplots(figsize=(14,7))\n",
    "sns.countplot(x=\"continent\",hue=\"case_status\", data=df, ec = \"black\",palette=\"Accent\")\n",
    "plt.title(\"Continent vs Visa Status\", weight=\"bold\",fontsize=20, pad=20)\n",
    "plt.ylabel(\"Count\", weight=\"bold\", fontsize=12)\n",
    "plt.xlabel(\"Continents\", weight=\"bold\", fontsize=16)\n",
    "plt.legend(title=\"Visa Status\", fancybox=True)\n",
    "plt.show()"
   ]
  },
  {
   "cell_type": "code",
   "execution_count": null,
   "id": "ab66694c",
   "metadata": {},
   "outputs": [],
   "source": [
    "df2 = df.copy()"
   ]
  },
  {
   "cell_type": "code",
   "execution_count": null,
   "id": "c5649a9a",
   "metadata": {},
   "outputs": [],
   "source": [
    "plt.figure(figsize=[14,7])\n",
    "\n",
    "(100*df2[df2[\"case_status\"].isin(['Certified'])]['continent'].value_counts()/df2['continent'].value_counts()).plot(\n",
    "    kind='bar',stacked=True , colormap='Accent')\n",
    "plt.title(\"Percentage of Certified\" , fontsize = 15, fontweight ='bold'  )\n",
    "order1 = (100*df2[df2[\"case_status\"].isin(['Certified'])]['continent'].value_counts()/df2['continent'].value_counts())\n",
    "for n in range(order1.shape[0]):\n",
    "    count = order1[n]\n",
    "    strt='{:0.1f}%'.format(count)\n",
    "    plt.text(n,count+0.1,strt,ha='center')\n",
    "\n",
    "plt.xlabel('Continent' , fontweight ='bold')\n",
    "plt.xticks(rotation=0)\n",
    "plt.show()"
   ]
  },
  {
   "cell_type": "markdown",
   "id": "e0e2b74f",
   "metadata": {},
   "source": [
    "**Report:**\n",
    "* As per the Chart Asia applicants applied more than other continents.\n",
    "* 43% of Certified applications are from Asia.\n",
    "* This is followed by Europe with 11% of Certified applications.\n",
    "* Highest chance of getting certified if you are from `Europe` and followed by `Africa`"
   ]
  },
  {
   "cell_type": "markdown",
   "id": "5f9e5d1c",
   "metadata": {},
   "source": [
    "### 4.3 Does applicant education has any impact on Visa status ?"
   ]
  },
  {
   "cell_type": "code",
   "execution_count": null,
   "id": "3f06e325",
   "metadata": {},
   "outputs": [],
   "source": [
    "#group data by Education and their count of case_status\n",
    "df.groupby('education_of_employee')['case_status'].value_counts(normalize=True).to_frame()*100"
   ]
  },
  {
   "cell_type": "code",
   "execution_count": null,
   "id": "33795a3e",
   "metadata": {},
   "outputs": [],
   "source": [
    "plt.subplots(figsize=(14,7))\n",
    "sns.countplot(x=\"education_of_employee\",hue=\"case_status\", data=df, ec = \"black\",palette=\"Accent\")\n",
    "plt.title(\"Education of Employee vs Visa Status\", weight=\"bold\",fontsize=20, pad=20)\n",
    "plt.ylabel(\"Count\", weight=\"bold\", fontsize=12)\n",
    "plt.xlabel(\"Education of Employee\", weight=\"bold\", fontsize=16)\n",
    "plt.legend(title=\"Visa Status\", fancybox=True)\n",
    "plt.show()"
   ]
  },
  {
   "cell_type": "code",
   "execution_count": null,
   "id": "c398fe24",
   "metadata": {},
   "outputs": [],
   "source": [
    "plt.figure(figsize=[14,7])\n",
    "\n",
    "(100*df2[df2[\"case_status\"].isin(['Certified'])]['education_of_employee'].value_counts()/df2['education_of_employee'].value_counts()).plot(\n",
    "    kind='bar',stacked=True , colormap='Accent')\n",
    "plt.title(\"Percentage of Certified vs Education of the employee\" , fontsize = 15, fontweight ='bold'  )\n",
    "order1 = (100*df2[df2[\"case_status\"].isin(['Certified'])]['education_of_employee'].value_counts()/df2['education_of_employee'].value_counts())\n",
    "for n in range(order1.shape[0]):\n",
    "    count = order1[n]\n",
    "    strt='{:0.1f}%'.format(count)\n",
    "    plt.text(n,count+0.1,strt,ha='center')\n",
    "\n",
    "plt.xlabel('education_of_employee' , fontweight ='bold')\n",
    "plt.xticks(rotation=0)\n",
    "plt.show()"
   ]
  },
  {
   "cell_type": "markdown",
   "id": "ed4d3be7",
   "metadata": {},
   "source": [
    "**Insights**\n",
    "- education status has high impact\n",
    "- `Doctorate` and `Master's` graduates have higher cange of being accepted then the others."
   ]
  },
  {
   "cell_type": "markdown",
   "id": "45bb0e7b",
   "metadata": {},
   "source": [
    "### 4.4 Does applicant's previous work experience has any impact on Visa status ?"
   ]
  },
  {
   "cell_type": "code",
   "execution_count": null,
   "id": "903d86b7",
   "metadata": {},
   "outputs": [],
   "source": [
    "#group data by has_job_experience and count case_status\n",
    "df.groupby('has_job_experience')['case_status'].value_counts(normalize=True).to_frame()*100"
   ]
  },
  {
   "cell_type": "code",
   "execution_count": null,
   "id": "e03cde73",
   "metadata": {},
   "outputs": [],
   "source": [
    "plt.subplots(figsize=(13,7))\n",
    "sns.countplot(x=\"has_job_experience\",hue=\"case_status\", data=df, ec= \"black\",palette=\"Accent\")\n",
    "plt.title(\"Previous Work Experience of Employee vs Visa Status\", weight=\"bold\",fontsize=20, pad=20)\n",
    "plt.ylabel(\"Count\", weight=\"bold\", fontsize=12)\n",
    "plt.xlabel(\"Work Experience of Employee\", weight=\"bold\", fontsize=16)\n",
    "plt.legend(title=\"Visa Status\", fancybox=True)\n",
    "plt.show()"
   ]
  },
  {
   "cell_type": "code",
   "execution_count": null,
   "id": "13fc8cfc",
   "metadata": {},
   "outputs": [],
   "source": [
    "plt.figure(figsize=[14,7])\n",
    "\n",
    "(100*df2[df2[\"case_status\"].isin(['Certified'])]['has_job_experience'].value_counts()/df2['has_job_experience'].value_counts()).plot(\n",
    "    kind='bar',stacked=True , colormap='Accent')\n",
    "plt.title(\"Percentage of Certified vs Job Experience\" , fontsize = 15, fontweight ='bold'  )\n",
    "order1 = (100*df2[df2[\"case_status\"].isin(['Certified'])]['has_job_experience'].value_counts()/df2['has_job_experience'].value_counts())\n",
    "for n in range(order1.shape[0]):\n",
    "    count = order1[n]\n",
    "    strt='{:0.1f}%'.format(count)\n",
    "    plt.text(n,count+0.1,strt,ha='center')\n",
    "\n",
    "plt.xlabel('has_job_experience' , fontweight ='bold')\n",
    "plt.xticks(rotation=0)\n",
    "plt.show()"
   ]
  },
  {
   "cell_type": "markdown",
   "id": "c02724e9",
   "metadata": {},
   "source": [
    "**Report**\n",
    "* People with previous work experience has been certified 74.5% only 25.5% applicant has been denied.\n",
    "* People with No previous work experience has been certified 56% and denied 43%.\n",
    "* This means work experience has effect on Visa status.\n",
    "* There is a slight edge for the people with work experiences then the fresheres as expected. But the difference is not huge."
   ]
  },
  {
   "cell_type": "markdown",
   "id": "ff213e2a",
   "metadata": {},
   "source": [
    "### 4.5 If the Employee requires job training, does it make any impact on visa status?"
   ]
  },
  {
   "cell_type": "code",
   "execution_count": null,
   "id": "30df7240",
   "metadata": {},
   "outputs": [],
   "source": [
    "#group data by requires_job_training and count case_status\n",
    "df.groupby('requires_job_training')['case_status'].value_counts(normalize=True).to_frame()*100"
   ]
  },
  {
   "cell_type": "code",
   "execution_count": null,
   "id": "0d2fa95c",
   "metadata": {},
   "outputs": [],
   "source": [
    "plt.subplots(figsize=(13,7))\n",
    "sns.countplot(x=\"requires_job_training\",hue=\"case_status\", data=df, ec= \"black\",palette=\"Accent\")\n",
    "plt.title(\"Requires job training for Employee vs Visa Status\", weight=\"bold\",fontsize=20, pad=20)\n",
    "plt.ylabel(\"Count\", weight=\"bold\", fontsize=12)\n",
    "plt.xlabel(\"Requires Job Training for Employee\", weight=\"bold\", fontsize=16)\n",
    "plt.legend(title=\"Visa Status\", fancybox=True)\n",
    "plt.show()"
   ]
  },
  {
   "cell_type": "code",
   "execution_count": null,
   "id": "ab49c6ff",
   "metadata": {},
   "outputs": [],
   "source": [
    "plt.figure(figsize=[14,7])\n",
    "\n",
    "(100*df2[df2[\"case_status\"].isin(['Certified'])]['requires_job_training'].value_counts()/df2['requires_job_training'].value_counts()).plot(\n",
    "    kind='bar',stacked=True , colormap='Accent')\n",
    "plt.title(\"Percentage of Certified vs Required training\" , fontsize = 15, fontweight ='bold'  )\n",
    "order1 = (100*df2[df2[\"case_status\"].isin(['Certified'])]['requires_job_training'].value_counts()/df2['requires_job_training'].value_counts())\n",
    "for n in range(order1.shape[0]):\n",
    "    count = order1[n]\n",
    "    strt='{:0.1f}%'.format(count)\n",
    "    plt.text(n,count+0.1,strt,ha='center')\n",
    "\n",
    "plt.xlabel('requires_job_training' , fontweight ='bold')\n",
    "plt.xticks(rotation=0)\n",
    "plt.show()"
   ]
  },
  {
   "cell_type": "markdown",
   "id": "91458771",
   "metadata": {},
   "source": [
    "**Report**\n",
    "* If employee requires job training and it doesn't have any effect on Visa status.\n",
    "* 88% of applicant don't require job training. \n",
    "* 63% of people who doesnt want job training got certified.\n",
    "* For employees who require job training 67% of people get certified.\n",
    "* As we checked in Chi-Squared test this feature doesn't have much impact on target variable, which is confirmed by above plot."
   ]
  },
  {
   "cell_type": "markdown",
   "id": "2e4528ae",
   "metadata": {},
   "source": [
    "### 4.6 Does Number of employees of employer has any impact on Visa status?"
   ]
  },
  {
   "cell_type": "code",
   "execution_count": null,
   "id": "ada2f8e6",
   "metadata": {},
   "outputs": [],
   "source": [
    "plt.subplots(figsize=(10,13))\n",
    "sns.violinplot(x=\"case_status\",y='no_of_employees', data=df, palette=\"Accent\")\n",
    "plt.title(\"Number of employees vs Visa Status\", weight=\"bold\",fontsize=20, pad=20)\n",
    "plt.ylabel(\"Count\", weight=\"bold\", fontsize=12)\n",
    "plt.xlabel(\"Requires Job Training for Employee\", weight=\"bold\", fontsize=16)\n",
    "plt.ylim()\n",
    "plt.show()"
   ]
  },
  {
   "cell_type": "markdown",
   "id": "53d7bb43",
   "metadata": {},
   "source": [
    "**Insights**\n",
    " - The distrubution of both is similar. But there are outliers in both the classes which need to be handeled."
   ]
  },
  {
   "cell_type": "markdown",
   "id": "4d78c2a0",
   "metadata": {},
   "source": [
    "### 4.7 Wages and its impact on Visa status"
   ]
  },
  {
   "cell_type": "code",
   "execution_count": null,
   "id": "9ef22b47",
   "metadata": {},
   "outputs": [],
   "source": [
    "#group data by unit_of_wage and count the case_status\n",
    "df.groupby('unit_of_wage')['case_status'].value_counts(normalize=True)"
   ]
  },
  {
   "cell_type": "code",
   "execution_count": null,
   "id": "40403e9c",
   "metadata": {},
   "outputs": [],
   "source": [
    "plt.subplots(figsize=(14,7))\n",
    "sns.countplot(x=\"unit_of_wage\",hue=\"case_status\", data=df,ec='k', palette='Accent')\n",
    "plt.title(\"No of Employees in company vs Visa Status\", weight=\"bold\",fontsize=20, pad=20)\n",
    "plt.xlabel(\"No of Employees\", weight=\"bold\", fontsize=16)\n",
    "plt.ylabel(\"Count\", weight=\"bold\", fontsize=12)\n",
    "plt.show()"
   ]
  },
  {
   "cell_type": "code",
   "execution_count": null,
   "id": "85c63d82",
   "metadata": {},
   "outputs": [],
   "source": [
    "plt.figure(figsize=[14,7])\n",
    "\n",
    "(100*df2[df2[\"case_status\"].isin(['Certified'])]['unit_of_wage'].value_counts()/df2['unit_of_wage'].value_counts()).plot(\n",
    "    kind='bar',stacked=True , colormap='Accent')\n",
    "plt.title(\"Percentage of Certified vs contract time\" , fontsize = 15, fontweight ='bold'  )\n",
    "order1 = (100*df2[df2[\"case_status\"].isin(['Certified'])]['unit_of_wage'].value_counts()/df2['unit_of_wage'].value_counts())\n",
    "for n in range(order1.shape[0]):\n",
    "    count = order1[n]\n",
    "    strt='{:0.1f}%'.format(count)\n",
    "    plt.text(n,count+0.1,strt,ha='center')\n",
    "\n",
    "plt.xlabel('unit_of_wage' , fontweight ='bold')\n",
    "plt.xticks(rotation=0)\n",
    "plt.show()"
   ]
  },
  {
   "cell_type": "markdown",
   "id": "7ae10938",
   "metadata": {},
   "source": [
    "**Report**\n",
    "* For employees who applied for hourly pay 65% of them were denied.\n",
    "* Yearly unit wage application were accepted for 69% and denied for 31% of the time.\n",
    "* There is a higher chance of yearly contract than other and immediately followed by week and month."
   ]
  },
  {
   "cell_type": "markdown",
   "id": "e792c765",
   "metadata": {},
   "source": [
    "### 4.7 Does Region of employment has impact on Visa status ?"
   ]
  },
  {
   "cell_type": "code",
   "execution_count": null,
   "id": "9478518b",
   "metadata": {},
   "outputs": [],
   "source": [
    "plt.subplots(figsize=(14,7))\n",
    "sns.countplot(x=\"region_of_employment\",hue=\"case_status\", data=df,ec='k')\n",
    "plt.title(\"Region of Employment vs Visa Status\", weight=\"bold\",fontsize=20, pad=20)\n",
    "plt.xlabel(\"Region\", weight=\"bold\", fontsize=16)\n",
    "plt.ylabel(\"Count\", weight=\"bold\", fontsize=12)\n",
    "plt.legend(title=\"Visa Status\", fancybox=True)\n",
    "plt.show()"
   ]
  },
  {
   "cell_type": "code",
   "execution_count": null,
   "id": "8513e352",
   "metadata": {},
   "outputs": [],
   "source": [
    "plt.figure(figsize=[14,7])\n",
    "\n",
    "(100*df2[df2[\"case_status\"].isin(['Certified'])]['region_of_employment'].value_counts()/df2['region_of_employment'].value_counts()).plot(\n",
    "    kind='bar',stacked=True , colormap='Accent')\n",
    "plt.title(\"Percentage of Certified vs employment region\" , fontsize = 15, fontweight ='bold'  )\n",
    "order1 = (100*df2[df2[\"case_status\"].isin(['Certified'])]['region_of_employment'].value_counts()/df2['region_of_employment'].value_counts())\n",
    "for n in range(order1.shape[0]):\n",
    "    count = order1[n]\n",
    "    strt='{:0.1f}%'.format(count)\n",
    "    plt.text(n,count+0.1,strt,ha='center')\n",
    "\n",
    "plt.xlabel('region_of_employment' , fontweight ='bold')\n",
    "plt.xticks(rotation=0)\n",
    "plt.show()"
   ]
  },
  {
   "cell_type": "markdown",
   "id": "ed24d862",
   "metadata": {},
   "source": [
    "**Report** \n",
    "* As per chart all the region have very similar pattern of getting Visa certified and Denied.\n",
    "* There is a slight edge for `midwest` followed by `South` region"
   ]
  },
  {
   "cell_type": "markdown",
   "id": "2771e48c",
   "metadata": {},
   "source": [
    "### 4.8 Does Prevailing wage has any impact on Visa status ?"
   ]
  },
  {
   "cell_type": "code",
   "execution_count": null,
   "id": "a39b4d8c",
   "metadata": {},
   "outputs": [],
   "source": [
    "df.groupby('prevailing_wage').case_status.value_counts()"
   ]
  },
  {
   "cell_type": "code",
   "execution_count": null,
   "id": "5bd5a9fe",
   "metadata": {},
   "outputs": [],
   "source": [
    "plt.subplots(figsize=(14,7))\n",
    "sns.histplot(x=\"prevailing_wage\",hue=\"case_status\", data=df, kde=True)\n",
    "plt.title(\"Prevailing wage vs Visa Status\", weight=\"bold\",fontsize=20, pad=20)\n",
    "plt.xlabel(\"Region\", weight=\"bold\", fontsize=16)\n",
    "plt.ylabel(\"Count\", weight=\"bold\", fontsize=12)\n",
    "plt.show()"
   ]
  },
  {
   "cell_type": "markdown",
   "id": "9026c4af",
   "metadata": {},
   "source": [
    "**Insights**\n",
    " - The distribution of both the classes are same but need to handel the outliers."
   ]
  },
  {
   "cell_type": "markdown",
   "id": "d8cd3e45",
   "metadata": {},
   "source": [
    "#### 4.8.1 Prevailing wage based on Education"
   ]
  },
  {
   "cell_type": "code",
   "execution_count": null,
   "id": "a6afdc1e",
   "metadata": {},
   "outputs": [],
   "source": [
    "print('Average Prevailing wage based on Employee education')\n",
    "df.groupby('education_of_employee')['prevailing_wage'].mean().to_frame().sort_values(by='prevailing_wage',ascending=False)"
   ]
  },
  {
   "cell_type": "code",
   "execution_count": null,
   "id": "71c15cde",
   "metadata": {},
   "outputs": [],
   "source": [
    "plt.subplots(figsize=(14,7))\n",
    "sns.boxplot(y=\"education_of_employee\",x = \"prevailing_wage\", data=df,palette='bright')\n",
    "plt.title(\"education_of_employee vs Visa Status\", weight=\"bold\",fontsize=20, pad=20)\n",
    "plt.xlabel(\"Prevailing Wage\", weight=\"bold\", fontsize=16)\n",
    "plt.ylabel(\"Education\", weight=\"bold\", fontsize=12)\n",
    "plt.show()"
   ]
  },
  {
   "cell_type": "markdown",
   "id": "44f60f97",
   "metadata": {},
   "source": [
    "**Report**\n",
    "* Based on the above table and charts its seen that applicant with Master's education has higher average prevailing wages.\n",
    "* Master's education applicants have median salary of $78.8k, which approximately 20% higher than Doctrate's average wage, which is strange."
   ]
  },
  {
   "cell_type": "markdown",
   "id": "fddd80a6",
   "metadata": {},
   "source": [
    "#### 4.8.2 Prevailing wage based on Job experience"
   ]
  },
  {
   "cell_type": "code",
   "execution_count": null,
   "id": "1ce8b3ea",
   "metadata": {},
   "outputs": [],
   "source": [
    "print('Median Prevailing wage based on Job experience')\n",
    "df.groupby('has_job_experience')['prevailing_wage'].median().to_frame().sort_values(by='prevailing_wage',ascending=False)"
   ]
  },
  {
   "cell_type": "markdown",
   "id": "75cdbcd9",
   "metadata": {},
   "source": [
    "**Report**\n",
    "* Suprisingly people who has less job experience has more prevailing wage.\n",
    "* No job experience applicant has median prevailing wage as 72k USD.\n",
    "* Previous job experience applicant has median prevailing wage as 69K USD."
   ]
  },
  {
   "cell_type": "markdown",
   "id": "cb4bd38d",
   "metadata": {},
   "source": [
    "#### 4.8.3 Prevailing wage based on Continent"
   ]
  },
  {
   "cell_type": "code",
   "execution_count": null,
   "id": "b3b9778a",
   "metadata": {},
   "outputs": [],
   "source": [
    "print('Average Prevailing wage based on Continent')\n",
    "df.groupby('continent')['prevailing_wage'].mean().to_frame().sort_values(by='prevailing_wage',ascending=False)"
   ]
  },
  {
   "cell_type": "code",
   "execution_count": null,
   "id": "c7fb9dc3",
   "metadata": {},
   "outputs": [],
   "source": [
    "plt.subplots(figsize=(14,7))\n",
    "sns.boxplot(y=\"continent\",x = \"prevailing_wage\", data=df,palette='bright')\n",
    "plt.title(\"continent vs Visa Status\", weight=\"bold\",fontsize=20, pad=20)\n",
    "plt.xlabel(\"Prevailing Wage\", weight=\"bold\", fontsize=16)\n",
    "plt.ylabel(\"continent\", weight=\"bold\", fontsize=12)\n",
    "plt.show()"
   ]
  },
  {
   "cell_type": "markdown",
   "id": "371fbcab",
   "metadata": {},
   "source": [
    "**Report**\n",
    "* Average salary of people from Asia is higher than other continents."
   ]
  },
  {
   "cell_type": "markdown",
   "id": "0a1d1d71",
   "metadata": {},
   "source": [
    "### 4.9 Year of Establishment "
   ]
  },
  {
   "cell_type": "code",
   "execution_count": null,
   "id": "06f67cec",
   "metadata": {},
   "outputs": [],
   "source": [
    "plt.subplots(figsize=(14,7))\n",
    "sns.histplot(x = \"yr_of_estab\", data=df,palette='gnuplot', bins=40, hue='case_status')\n",
    "plt.title(\"yr_of_estab vs Visa Status\", weight=\"bold\",fontsize=20, pad=20)\n",
    "plt.xlabel(\"yr_of_estab\", weight=\"bold\", fontsize=16)\n",
    "plt.ylabel(\"Prevailing Wage\", weight=\"bold\", fontsize=12)\n",
    "plt.show()"
   ]
  },
  {
   "cell_type": "markdown",
   "id": "94f7277e",
   "metadata": {},
   "source": [
    "**Report**\n",
    "* Each bins consists of 5 years.\n",
    "* Many companies were established after year 2000.\n",
    "* The most company establishment happened in year 2000-2005."
   ]
  },
  {
   "cell_type": "markdown",
   "id": "9fb6deeb",
   "metadata": {},
   "source": [
    "### Final Report \n",
    "* `case_id` column can be dropped as it is an ID.\n",
    "* `requires_job_training` column can be dropped as it doesn't have much impact on target variable, Proved in visualization and chi2 test.\n",
    "* `no_of_employees`, `prevailing_wage` columns have outllier which should be handled.\n",
    "* `continent` columns has few unique values with very less count, which can be made as **others**\n",
    "* Target column `case_status` is imbalanced can be handled before model building."
   ]
  },
  {
   "cell_type": "code",
   "execution_count": null,
   "id": "cf45f479",
   "metadata": {},
   "outputs": [],
   "source": [
    "########################-------------Feature Engineering and Model Training in Next ipynb------------###########################"
   ]
  }
 ],
 "metadata": {
  "language_info": {
   "name": "python"
  }
 },
 "nbformat": 4,
 "nbformat_minor": 5
}
